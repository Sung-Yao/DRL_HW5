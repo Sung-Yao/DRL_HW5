{
  "cells": [
    {
      "cell_type": "markdown",
      "metadata": {
        "id": "view-in-github",
        "colab_type": "text"
      },
      "source": [
        "<a href=\"https://colab.research.google.com/github/Sung-Yao/DRL_HW5/blob/main/hw5_uglyming_test.ipynb\" target=\"_parent\"><img src=\"https://colab.research.google.com/assets/colab-badge.svg\" alt=\"Open In Colab\"/></a>"
      ]
    },
    {
      "cell_type": "code",
      "execution_count": 1,
      "metadata": {
        "id": "cciTuR2MIeX-"
      },
      "outputs": [],
      "source": [
        "import gym\n",
        "\n",
        "\n",
        "def query_environment(name):\n",
        "    env = gym.make(name)\n",
        "    spec = gym.spec(name)\n",
        "    print(f\"Action Space: {env.action_space}\")\n",
        "    print(f\"Observation Space: {env.observation_space}\")\n",
        "    print(f\"Max Episode Steps: {spec.max_episode_steps}\")\n",
        "    print(f\"Nondeterministic: {spec.nondeterministic}\")\n",
        "    print(f\"Reward Range: {env.reward_range}\")\n",
        "    print(f\"Reward Threshold: {spec.reward_threshold}\")\n"
      ]
    },
    {
      "cell_type": "markdown",
      "metadata": {
        "id": "kRXfAdwFDwUm"
      },
      "source": [
        "We will look at the **MountainCar-v0** environment, which challenges an underpowered car to escape the valley between two mountains.  The following code describes the Mountian Car environment.\n",
        "\n",
        "我們將看看 MountainCar-v0 環境，它挑戰動力不足的汽車逃離兩座山之間的山谷。以下代碼描述了 Mountian Car 環境。"
      ]
    },
    {
      "cell_type": "code",
      "execution_count": 2,
      "metadata": {
        "colab": {
          "base_uri": "https://localhost:8080/"
        },
        "id": "XYwy9cjlJjEH",
        "outputId": "b027c7a1-4935-439d-93af-95ebea58a6d8"
      },
      "outputs": [
        {
          "output_type": "stream",
          "name": "stdout",
          "text": [
            "Action Space: Discrete(3)\n",
            "Observation Space: Box(-1.2000000476837158, 0.6000000238418579, (2,), float32)\n",
            "Max Episode Steps: 200\n",
            "Nondeterministic: False\n",
            "Reward Range: (-inf, inf)\n",
            "Reward Threshold: -110.0\n"
          ]
        }
      ],
      "source": [
        "query_environment(\"MountainCar-v0\")"
      ]
    },
    {
      "cell_type": "markdown",
      "metadata": {
        "id": "1TsQiaGJE3UA"
      },
      "source": [
        "This environment allows three distinct actions: accelerate forward, decelerate, or backward. The observation space contains two continuous (floating point) values, as evident by the box object. The observation space is simply the position and velocity of the car. The car has 200 steps to escape for each episode. You would have to look at the code, but the mountain car receives no incremental reward. The only reward for the vehicle occurs when it escapes the valley.  \n",
        "\n",
        "此環境允許三種不同的操作：向前加速、減速或向後。 觀察空間包含兩個連續（浮點）值，如 box 對象所示。 觀察空間只是汽車的位置和速度。 這輛車每集都有 200 步可以逃生。 您將不得不查看代碼，但山地車不會獲得任何增量獎勵。 車輛的唯一獎勵發生在它逃離山谷時。"
      ]
    },
    {
      "cell_type": "code",
      "execution_count": 3,
      "metadata": {
        "colab": {
          "base_uri": "https://localhost:8080/"
        },
        "id": "RF4n5cYEMyru",
        "outputId": "6b36bc55-8bdd-4391-ef94-5c28d8293d48"
      },
      "outputs": [
        {
          "output_type": "stream",
          "name": "stdout",
          "text": [
            "Action Space: Discrete(2)\n",
            "Observation Space: Box(-3.4028234663852886e+38, 3.4028234663852886e+38, (4,), float32)\n",
            "Max Episode Steps: 500\n",
            "Nondeterministic: False\n",
            "Reward Range: (-inf, inf)\n",
            "Reward Threshold: 475.0\n"
          ]
        }
      ],
      "source": [
        "query_environment(\"CartPole-v1\")"
      ]
    },
    {
      "cell_type": "markdown",
      "metadata": {
        "id": "QwvVKrNebUHJ"
      },
      "source": [
        "The **CartPole-v1** environment challenges the agent to balance a pole while the agent. The environment has an observation space of 4 continuous numbers:\n",
        "\n",
        "* Cart Position\n",
        "* Cart Velocity\n",
        "* Pole Angle\n",
        "* Pole Velocity At Tip\n",
        "\n",
        "To achieve this goal, the agent can take the following actions:\n",
        "\n",
        "* Push cart to the left\n",
        "* Push cart to the right\n",
        "\n",
        "There is also a continuous variant of the mountain car. This version does not simply have the motor on or off. The action space is a single floating-point number for the continuous cart that specifies how much forward or backward force the cart currently utilizes."
      ]
    },
    {
      "cell_type": "code",
      "execution_count": 4,
      "metadata": {
        "colab": {
          "base_uri": "https://localhost:8080/"
        },
        "id": "UAlaMcJmNSY0",
        "outputId": "bc1bc979-600f-44b9-9fed-dc69bdca03d2"
      },
      "outputs": [
        {
          "output_type": "stream",
          "name": "stdout",
          "text": [
            "Action Space: Box(-1.0, 1.0, (1,), float32)\n",
            "Observation Space: Box(-1.2000000476837158, 0.6000000238418579, (2,), float32)\n",
            "Max Episode Steps: 999\n",
            "Nondeterministic: False\n",
            "Reward Range: (-inf, inf)\n",
            "Reward Threshold: 90.0\n"
          ]
        }
      ],
      "source": [
        "query_environment(\"MountainCarContinuous-v0\")"
      ]
    },
    {
      "cell_type": "markdown",
      "metadata": {
        "id": "JBrlG1t6ceIa"
      },
      "source": [
        "Note: If you see a warning above, you can safely ignore it; it is a relatively minor bug in OpenAI Gym.\n",
        "\n",
        "Atari games, like breakout, can use an observation space that is either equal to the size of the Atari screen (210x160) or even use the RAM of the Atari (128 bytes) to determine the state of the game.  Yes, that's bytes, not kilobytes!"
      ]
    },
    {
      "cell_type": "code",
      "execution_count": 5,
      "metadata": {
        "colab": {
          "base_uri": "https://localhost:8080/"
        },
        "id": "G6uBDj0Zyw88",
        "outputId": "13a94169-a59a-4ddc-eb73-5bdb1097e221"
      },
      "outputs": [
        {
          "output_type": "stream",
          "name": "stdout",
          "text": [
            "--2022-06-17 07:58:48--  http://www.atarimania.com/roms/Roms.rar\n",
            "Resolving www.atarimania.com (www.atarimania.com)... 195.154.81.199\n",
            "Connecting to www.atarimania.com (www.atarimania.com)|195.154.81.199|:80... connected.\n",
            "HTTP request sent, awaiting response... 200 OK\n",
            "Length: 19583716 (19M) [application/x-rar-compressed]\n",
            "Saving to: ‘Roms.rar’\n",
            "\n",
            "Roms.rar            100%[===================>]  18.68M   732KB/s    in 27s     \n",
            "\n",
            "2022-06-17 07:59:15 (710 KB/s) - ‘Roms.rar’ saved [19583716/19583716]\n",
            "\n"
          ]
        }
      ],
      "source": [
        "# HIDE OUTPUT\n",
        "!wget http://www.atarimania.com/roms/Roms.rar \n",
        "!unrar x -o+ /content/Roms.rar >/dev/nul\n",
        "!python -m atari_py.import_roms /content/ROMS >/dev/nul"
      ]
    },
    {
      "cell_type": "code",
      "execution_count": 6,
      "metadata": {
        "colab": {
          "base_uri": "https://localhost:8080/"
        },
        "id": "ndTb-9pgJizW",
        "outputId": "96da14a0-cf75-479d-bc0d-5afb8ad5fd64"
      },
      "outputs": [
        {
          "output_type": "stream",
          "name": "stdout",
          "text": [
            "Action Space: Discrete(4)\n",
            "Observation Space: Box(0, 255, (210, 160, 3), uint8)\n",
            "Max Episode Steps: 10000\n",
            "Nondeterministic: False\n",
            "Reward Range: (-inf, inf)\n",
            "Reward Threshold: None\n"
          ]
        }
      ],
      "source": [
        "query_environment(\"Breakout-v0\")"
      ]
    },
    {
      "cell_type": "code",
      "execution_count": 7,
      "metadata": {
        "colab": {
          "base_uri": "https://localhost:8080/"
        },
        "id": "Ni1rxzmLKAdH",
        "outputId": "fd32a83e-1c06-4a94-dd99-566419c9eded"
      },
      "outputs": [
        {
          "output_type": "stream",
          "name": "stdout",
          "text": [
            "Action Space: Discrete(4)\n",
            "Observation Space: Box(0, 255, (128,), uint8)\n",
            "Max Episode Steps: 10000\n",
            "Nondeterministic: False\n",
            "Reward Range: (-inf, inf)\n",
            "Reward Threshold: None\n"
          ]
        }
      ],
      "source": [
        "query_environment(\"Breakout-ram-v0\")"
      ]
    },
    {
      "cell_type": "markdown",
      "metadata": {
        "id": "3E253PBGPRuw"
      },
      "source": [
        "## Render OpenAI Gym Environments from CoLab\n",
        "\n",
        "It is possible to visualize the game your agent is playing, even on CoLab. This section provides information on generating a video in CoLab that shows you an episode of the game your agent is playing. I based this video process on suggestions found [here](https://colab.research.google.com/drive/1flu31ulJlgiRL1dnN2ir8wGh9p7Zij2t).\n",
        "\n",
        "Begin by installing **pyvirtualdisplay** and **python-opengl**.\n",
        "\n",
        "從 CoLab 渲染 OpenAI Gym 環境\n",
        "即使在 CoLab 上，也可以可視化您的代理正在玩的遊戲。 本部分提供有關在 CoLab 中生成視頻的信息，該視頻向您展示您的代理正在玩的遊戲的一集。 我根據這裡找到的建議製作了這個視頻過程。\n",
        "\n",
        "首先安裝 pyvirtualdisplay 和 python-opengl。"
      ]
    },
    {
      "cell_type": "code",
      "execution_count": 8,
      "metadata": {
        "id": "uF92FCzZMWPn"
      },
      "outputs": [],
      "source": [
        "# HIDE OUTPUT\n",
        "!pip install gym pyvirtualdisplay > /dev/null 2>&1\n",
        "!apt-get install -y xvfb python-opengl ffmpeg > /dev/null 2>&1"
      ]
    },
    {
      "cell_type": "markdown",
      "metadata": {
        "id": "hS7L8kFMLkjN"
      },
      "source": [
        "Next, we install the needed requirements to display an Atari game."
      ]
    },
    {
      "cell_type": "code",
      "execution_count": 9,
      "metadata": {
        "colab": {
          "base_uri": "https://localhost:8080/",
          "height": 331
        },
        "id": "78BfQoQKOq7z",
        "outputId": "83dd971d-61e7-4008-a799-22aa3217c3b2"
      },
      "outputs": [
        {
          "output_type": "stream",
          "name": "stdout",
          "text": [
            "Looking in indexes: https://pypi.org/simple, https://us-python.pkg.dev/colab-wheels/public/simple/\n",
            "Requirement already satisfied: setuptools in /usr/local/lib/python3.7/dist-packages (57.4.0)\n",
            "Collecting setuptools\n",
            "  Downloading setuptools-62.4.0-py3-none-any.whl (1.2 MB)\n",
            "\u001b[K     |████████████████████████████████| 1.2 MB 5.1 MB/s \n",
            "\u001b[?25hInstalling collected packages: setuptools\n",
            "  Attempting uninstall: setuptools\n",
            "    Found existing installation: setuptools 57.4.0\n",
            "    Uninstalling setuptools-57.4.0:\n",
            "      Successfully uninstalled setuptools-57.4.0\n",
            "\u001b[31mERROR: pip's dependency resolver does not currently take into account all the packages that are installed. This behaviour is the source of the following dependency conflicts.\n",
            "datascience 0.10.6 requires folium==0.2.1, but you have folium 0.8.3 which is incompatible.\u001b[0m\n",
            "Successfully installed setuptools-62.4.0\n"
          ]
        },
        {
          "output_type": "display_data",
          "data": {
            "application/vnd.colab-display-data+json": {
              "pip_warning": {
                "packages": [
                  "pkg_resources"
                ]
              }
            }
          },
          "metadata": {}
        }
      ],
      "source": [
        "# HIDE OUTPUT\n",
        "!apt-get update > /dev/null 2>&1\n",
        "!apt-get install cmake > /dev/null 2>&1\n",
        "!pip install --upgrade setuptools 2>&1\n",
        "!pip install ez_setup > /dev/null 2>&1\n",
        "!pip install gym[atari] > /dev/null 2>&1"
      ]
    },
    {
      "cell_type": "markdown",
      "metadata": {
        "id": "NjTHm2SpLz10"
      },
      "source": [
        "Next, we define the functions used to show the video by adding it to the CoLab notebook."
      ]
    },
    {
      "cell_type": "code",
      "execution_count": 10,
      "metadata": {
        "id": "T9RpF49oOsZj"
      },
      "outputs": [],
      "source": [
        "import gym\n",
        "from gym.wrappers import Monitor\n",
        "import glob\n",
        "import io\n",
        "import base64\n",
        "from IPython.display import HTML\n",
        "from pyvirtualdisplay import Display\n",
        "from IPython import display as ipythondisplay\n",
        "\n",
        "display = Display(visible=0, size=(1400, 900))\n",
        "display.start()\n",
        "\n",
        "\"\"\"\n",
        "Utility functions to enable video recording of gym environment \n",
        "and displaying it.\n",
        "To enable video, just do \"env = wrap_env(env)\"\"\n",
        "\"\"\"\n",
        "\n",
        "\n",
        "def show_video():\n",
        "    mp4list = glob.glob('video/*.mp4')\n",
        "    if len(mp4list) > 0:\n",
        "        mp4 = mp4list[0]\n",
        "        video = io.open(mp4, 'r+b').read()\n",
        "        encoded = base64.b64encode(video)\n",
        "        ipythondisplay.display(HTML(data='''<video alt=\"test\" autoplay \n",
        "                loop controls style=\"height: 400px;\">\n",
        "                <source src=\"data:video/mp4;base64,{0}\" type=\"video/mp4\" />\n",
        "             </video>'''.format(encoded.decode('ascii'))))\n",
        "    else:\n",
        "        print(\"Could not find video\")\n",
        "\n",
        "\n",
        "def wrap_env(env):\n",
        "    env = Monitor(env, './video', force=True)\n",
        "    return env\n"
      ]
    },
    {
      "cell_type": "markdown",
      "metadata": {
        "id": "K6NATj-kNADT"
      },
      "source": [
        "Now we are ready to play the game.  We use a simple random agent."
      ]
    },
    {
      "cell_type": "code",
      "execution_count": 14,
      "metadata": {
        "colab": {
          "base_uri": "https://localhost:8080/",
          "height": 421
        },
        "id": "XDKGJ9A3O8fT",
        "outputId": "05bb1412-426a-4c45-973b-3c58f29462e3"
      },
      "outputs": [
        {
          "output_type": "display_data",
          "data": {
            "text/plain": [
              "<IPython.core.display.HTML object>"
            ],
            "text/html": [
              "<video alt=\"test\" autoplay \n",
              "                loop controls style=\"height: 400px;\">\n",
              "                <source src=\"data:video/mp4;base64,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\" type=\"video/mp4\" />\n",
              "             </video>"
            ]
          },
          "metadata": {}
        }
      ],
      "source": [
        "# HIDE OUTPUT\n",
        "env = wrap_env(gym.make(\"MountainCar-v0\"))\n",
        "#env = wrap_env(gym.make(\"Atlantis-v0\"))\n",
        "\n",
        "observation = env.reset()\n",
        "\n",
        "while True:\n",
        "\n",
        "    env.render()\n",
        "\n",
        "    # your agent goes here\n",
        "    action = env.action_space.sample()\n",
        "\n",
        "    observation, reward, done, info = env.step(action)\n",
        "\n",
        "    if done:\n",
        "        break\n",
        "\n",
        "env.close()\n",
        "show_video()\n"
      ]
    }
  ],
  "metadata": {
    "anaconda-cloud": {},
    "colab": {
      "collapsed_sections": [],
      "name": "hw5_uglyming_test.ipynb",
      "provenance": [],
      "include_colab_link": true
    },
    "kernelspec": {
      "display_name": "Python 3.9 (tensorflow)",
      "language": "python",
      "name": "tensorflow"
    },
    "language_info": {
      "codemirror_mode": {
        "name": "ipython",
        "version": 3
      },
      "file_extension": ".py",
      "mimetype": "text/x-python",
      "name": "python",
      "nbconvert_exporter": "python",
      "pygments_lexer": "ipython3",
      "version": "3.9.7"
    },
    "varInspector": {
      "cols": {
        "lenName": 16,
        "lenType": 16,
        "lenVar": 40
      },
      "kernels_config": {
        "python": {
          "delete_cmd_postfix": "",
          "delete_cmd_prefix": "del ",
          "library": "var_list.py",
          "varRefreshCmd": "print(var_dic_list())"
        },
        "r": {
          "delete_cmd_postfix": ") ",
          "delete_cmd_prefix": "rm(",
          "library": "var_list.r",
          "varRefreshCmd": "cat(var_dic_list()) "
        }
      },
      "types_to_exclude": [
        "module",
        "function",
        "builtin_function_or_method",
        "instance",
        "_Feature"
      ],
      "window_display": false
    }
  },
  "nbformat": 4,
  "nbformat_minor": 0
}